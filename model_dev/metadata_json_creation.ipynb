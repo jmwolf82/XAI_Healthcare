{
 "cells": [
  {
   "cell_type": "markdown",
   "id": "5e249ee2-ea39-44d4-a2da-5a0bbca774ca",
   "metadata": {},
   "source": [
    "## JSON Metadata creation"
   ]
  },
  {
   "cell_type": "markdown",
   "id": "de1b672f-d021-490f-880f-b3571d2b4900",
   "metadata": {},
   "source": [
    "### Metadata file format"
   ]
  },
  {
   "cell_type": "code",
   "execution_count": 1,
   "id": "a4732b2c-8bdf-47e6-a97c-f7a066c081da",
   "metadata": {},
   "outputs": [],
   "source": [
    "# {\"file_name\": \"0001.png\", \"text\": \"This is a golden retriever playing with a ball\"}\n",
    "# {\"file_name\": \"0002.png\", \"text\": \"A german shepherd\"}\n",
    "# {\"file_name\": \"0003.png\", \"text\": \"One chihuahua\"}"
   ]
  },
  {
   "cell_type": "code",
   "execution_count": 2,
   "id": "7c3687b9-77d2-4fd1-b1ad-a79a718c6d52",
   "metadata": {},
   "outputs": [],
   "source": [
    "import json\n",
    "import random\n",
    "import sys\n",
    "import os"
   ]
  },
  {
   "cell_type": "code",
   "execution_count": 3,
   "id": "85745d22-b54a-4463-8c71-eca74b199f77",
   "metadata": {},
   "outputs": [],
   "source": [
    "# Making a group of annotations to randomly label a set of images\n",
    "# Ideally this should be an interface for pathologists to label images\n",
    "ANNOTATIONS_MITOTIC = [\n",
    "    'Square mitotic figure with a single nucleus',\n",
    "    'Round mitotic figure with a single nucleus',\n",
    "    'Square mitotic figure with multiple nuclei',\n",
    "    'Round mitotic figure with multiple nuclei',\n",
    "    'Oblong mitotic figure with a single nucleus',\n",
    "    'Oblong mitotic figure with multiple nuclei',\n",
    "    'Mitotic figure undergoing cytokinesis',\n",
    "    'Mitotic figure undergoing mitosis',\n",
    "    'Mitotic figure at metaphase',\n",
    "    'Mitotic figure at anaphase'\n",
    "]\n",
    "# ANNOTATIONS_NONMITOTIC = [\n",
    "#     'Nucleus with a single nucleus',\n",
    "#     'Nucleus with multiple nuclei',\n",
    "#     'Nucleus undergoing cytokinesis',\n",
    "#     'Nucleus undergoing mitosis',\n",
    "#     'Nucleus at metaphase',\n",
    "#     'Nucleus at anaphase'\n",
    "# ]"
   ]
  },
  {
   "cell_type": "code",
   "execution_count": 4,
   "id": "0b2de93c-29fe-4ece-bf93-50448c430f69",
   "metadata": {},
   "outputs": [
    {
     "name": "stdout",
     "output_type": "stream",
     "text": [
      "['Square mitotic figure with a single nucleus']\n"
     ]
    }
   ],
   "source": [
    "script_dir = sys.path[0]\n",
    "img_path = os.path.join(script_dir, '../MITOS_Datasets/Data_CMC_COADEL_224_1/')\n",
    "print(random.sample(ANNOTATIONS_MITOTIC, 1))"
   ]
  },
  {
   "cell_type": "code",
   "execution_count": 5,
   "id": "b405b252-fc7b-4f22-8177-9b81a8c95b89",
   "metadata": {},
   "outputs": [],
   "source": [
    "def create_image_annotation(image_path, annotations):\n",
    "    result = {}\n",
    "    my_dict = {}\n",
    "    with open('metadata.jsonl', 'w') as f:\n",
    "        for img in os.listdir(image_path):\n",
    "            if img.endswith('.jpg'):\n",
    "                result[\"file_name\"] = img\n",
    "                result[\"text\"] = random.sample(annotations, 1)[0]\n",
    "                json.dump(result, f)\n",
    "                f.write(\"\\n\")   \n",
    "    return result"
   ]
  },
  {
   "cell_type": "code",
   "execution_count": 6,
   "id": "fb508ea7-202e-43ab-b847-154f199e4086",
   "metadata": {},
   "outputs": [],
   "source": [
    "annotated_train_mitotic = create_image_annotation(img_path + '/train/Mitosis', ANNOTATIONS_MITOTIC)\n",
    "# annotated_train_non_mitotic = create_image_annotation(img_path + '/train/Nonmitosis', ANNOTATIONS_NONMITOTIC)\n",
    "# annotated_test_mitotic = create_image_annotation(img_path + '/test/Mitosis', ANNOTATIONS_MITOTIC)\n",
    "# annotated_test_non_mitotic = create_image_annotation(img_path + '/test/Nonmitosis', ANNOTATIONS_NONMITOTIC)"
   ]
  }
 ],
 "metadata": {
  "kernelspec": {
   "display_name": "Python 3 (ipykernel)",
   "language": "python",
   "name": "python3"
  },
  "language_info": {
   "codemirror_mode": {
    "name": "ipython",
    "version": 3
   },
   "file_extension": ".py",
   "mimetype": "text/x-python",
   "name": "python",
   "nbconvert_exporter": "python",
   "pygments_lexer": "ipython3",
   "version": "3.10.4"
  }
 },
 "nbformat": 4,
 "nbformat_minor": 5
}
