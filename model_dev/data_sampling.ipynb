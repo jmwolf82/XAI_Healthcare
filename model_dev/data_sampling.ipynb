{
 "cells": [
  {
   "cell_type": "markdown",
   "id": "9d61c2da-a655-482c-8235-64d36985d4b1",
   "metadata": {},
   "source": [
    "## Create Sampled Datasets"
   ]
  },
  {
   "cell_type": "code",
   "execution_count": 1,
   "id": "399ecb66-191a-412b-b1d0-b10e5da03862",
   "metadata": {},
   "outputs": [],
   "source": [
    "# imports for code\n",
    "import os\n",
    "import shutil\n",
    "import random"
   ]
  },
  {
   "cell_type": "code",
   "execution_count": 2,
   "id": "fb61182a-bbcf-44af-b658-3ab1bcecd516",
   "metadata": {},
   "outputs": [],
   "source": [
    "os.mkdir('COADEL_64_Sampled')"
   ]
  },
  {
   "cell_type": "code",
   "execution_count": 3,
   "id": "a6cef63c-ced9-46a7-b836-5abf4304daaa",
   "metadata": {},
   "outputs": [
    {
     "name": "stdout",
     "output_type": "stream",
     "text": [
      "/home/jmwolf/repos/XAI_Healthcare/model_dev/COADEL_64_Sampled\n",
      "/home/jmwolf/repos/XAI_Healthcare/model_dev/COADEL_64_Sampled\n"
     ]
    }
   ],
   "source": [
    "%cd '../model_dev/COADEL_64_Sampled'\n",
    "!pwd"
   ]
  },
  {
   "cell_type": "code",
   "execution_count": 4,
   "id": "7c055e90-8158-45df-9d7a-88349a4cd620",
   "metadata": {},
   "outputs": [
    {
     "name": "stdout",
     "output_type": "stream",
     "text": [
      "/home/jmwolf/repos/XAI_Healthcare/model_dev/COADEL_64_Sampled/train\n",
      "/home/jmwolf/repos/XAI_Healthcare/model_dev/COADEL_64_Sampled/train\n"
     ]
    }
   ],
   "source": [
    "os.mkdir('train')\n",
    "%cd '../COADEL_64_Sampled/train'\n",
    "!pwd"
   ]
  },
  {
   "cell_type": "code",
   "execution_count": 5,
   "id": "c43a25cb-458a-49a5-bbf1-2c9df2647ff0",
   "metadata": {},
   "outputs": [],
   "source": [
    "os.mkdir('Mitosis')\n",
    "os.mkdir('Nonmitosis')"
   ]
  },
  {
   "cell_type": "code",
   "execution_count": 6,
   "id": "2a20bf51-edeb-4d5d-9dc9-47ef0d08a95f",
   "metadata": {},
   "outputs": [],
   "source": [
    "path_m = '../model_dev/Data_CMC_COADEL_64_1/train/Mitosis'\n",
    "path_nm = '../model_dev/Data_CMC_COADEL_64_1/train/Nonmitosis'\n",
    "\n",
    "dest_path_m = '../model_dev/COADEL_64_Sampled/train/Mitosis'\n",
    "dest_path_nm = '../model_dev/COADEL_64_Sampled/train/Nonmitosis'"
   ]
  },
  {
   "cell_type": "code",
   "execution_count": 7,
   "id": "8d7d6207-de95-4e2d-85f6-b27129893fc7",
   "metadata": {},
   "outputs": [
    {
     "name": "stdout",
     "output_type": "stream",
     "text": [
      "/home/jmwolf/repos/XAI_Healthcare/model_dev/COADEL_64_Sampled/train\n",
      "/home/jmwolf/repos/XAI_Healthcare/model_dev\n",
      "/home/jmwolf/repos/XAI_Healthcare/model_dev\n"
     ]
    }
   ],
   "source": [
    "!pwd\n",
    "%cd ../../\n",
    "!pwd"
   ]
  },
  {
   "cell_type": "code",
   "execution_count": 8,
   "id": "81171335-3fac-44cd-bb80-de211cafe002",
   "metadata": {},
   "outputs": [
    {
     "data": {
      "text/plain": [
       "27256"
      ]
     },
     "execution_count": 8,
     "metadata": {},
     "output_type": "execute_result"
    }
   ],
   "source": [
    "non_mitosis_array = os.listdir(path_nm)\n",
    "nm_length = len(non_mitosis_array)\n",
    "nm_length"
   ]
  },
  {
   "cell_type": "code",
   "execution_count": 9,
   "id": "9650b34c-a02c-473a-bf7c-70218ebe30ed",
   "metadata": {},
   "outputs": [
    {
     "data": {
      "text/plain": [
       "10694"
      ]
     },
     "execution_count": 9,
     "metadata": {},
     "output_type": "execute_result"
    }
   ],
   "source": [
    "mitosis_array = os.listdir(path_m)\n",
    "m_length = len(mitosis_array)\n",
    "m_length"
   ]
  },
  {
   "cell_type": "code",
   "execution_count": 10,
   "id": "76f211b4-a823-438f-9b24-9fe2aea15dff",
   "metadata": {},
   "outputs": [],
   "source": [
    "filenames = random.sample(os.listdir(path_m), round((m_length*0.1)))\n",
    "\n",
    "for fname in filenames:\n",
    "    srcpath = os.path.join(path_m, fname)\n",
    "    destpath = os.path.join(dest_path_m, fname)\n",
    "    shutil.copyfile(srcpath, destpath)"
   ]
  },
  {
   "cell_type": "code",
   "execution_count": 11,
   "id": "e85b4ebb-e031-4679-8a3c-193ec3ac6428",
   "metadata": {},
   "outputs": [
    {
     "data": {
      "text/plain": [
       "1069"
      ]
     },
     "execution_count": 11,
     "metadata": {},
     "output_type": "execute_result"
    }
   ],
   "source": [
    "len(filenames)"
   ]
  },
  {
   "cell_type": "code",
   "execution_count": 12,
   "id": "6b70216c-f0a9-42dc-9961-a7b0ed2bc458",
   "metadata": {},
   "outputs": [],
   "source": [
    "filenames = random.sample(os.listdir(path_nm), round((nm_length*0.1)))\n",
    "\n",
    "for fname in filenames:\n",
    "    srcpath = os.path.join(path_nm, fname)\n",
    "    destpath = os.path.join(dest_path_nm, fname)\n",
    "    shutil.copyfile(srcpath, destpath)"
   ]
  },
  {
   "cell_type": "code",
   "execution_count": 13,
   "id": "ed746ee7-0ad3-498f-89ba-9ca945120c05",
   "metadata": {},
   "outputs": [
    {
     "data": {
      "text/plain": [
       "2726"
      ]
     },
     "execution_count": 13,
     "metadata": {},
     "output_type": "execute_result"
    }
   ],
   "source": [
    "len(filenames)"
   ]
  },
  {
   "cell_type": "code",
   "execution_count": 14,
   "id": "f7d63795-03f4-410c-95d9-5855243011eb",
   "metadata": {},
   "outputs": [
    {
     "data": {
      "text/plain": [
       "1069"
      ]
     },
     "execution_count": 14,
     "metadata": {},
     "output_type": "execute_result"
    }
   ],
   "source": [
    "mitosis_array = os.listdir(dest_path_m)\n",
    "length = len(mitosis_array)\n",
    "length"
   ]
  },
  {
   "cell_type": "code",
   "execution_count": 15,
   "id": "f2614c3d-537c-4619-9093-0899c5aeb601",
   "metadata": {},
   "outputs": [
    {
     "data": {
      "text/plain": [
       "2726"
      ]
     },
     "execution_count": 15,
     "metadata": {},
     "output_type": "execute_result"
    }
   ],
   "source": [
    "non_mitosis_array = os.listdir(dest_path_nm)\n",
    "length = len(non_mitosis_array)\n",
    "length"
   ]
  }
 ],
 "metadata": {
  "kernelspec": {
   "display_name": "Python 3 (ipykernel)",
   "language": "python",
   "name": "python3"
  },
  "language_info": {
   "codemirror_mode": {
    "name": "ipython",
    "version": 3
   },
   "file_extension": ".py",
   "mimetype": "text/x-python",
   "name": "python",
   "nbconvert_exporter": "python",
   "pygments_lexer": "ipython3",
   "version": "3.10.4"
  }
 },
 "nbformat": 4,
 "nbformat_minor": 5
}
